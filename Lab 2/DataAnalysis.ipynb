{
 "metadata": {
  "language_info": {
   "codemirror_mode": {
    "name": "ipython",
    "version": 3
   },
   "file_extension": ".py",
   "mimetype": "text/x-python",
   "name": "python",
   "nbconvert_exporter": "python",
   "pygments_lexer": "ipython3",
   "version": "3.7.3-final"
  },
  "orig_nbformat": 2,
  "kernelspec": {
   "name": "python_defaultSpec_1600448642696",
   "display_name": "Python 3.7.3 64-bit ('base': conda)"
  }
 },
 "nbformat": 4,
 "nbformat_minor": 2,
 "cells": [
  {
   "cell_type": "code",
   "execution_count": 83,
   "metadata": {},
   "outputs": [],
   "source": [
    "import pandas as pd\n",
    "import matplotlib.pyplot as plt\n",
    "import numpy as np"
   ]
  },
  {
   "cell_type": "code",
   "execution_count": 84,
   "metadata": {},
   "outputs": [],
   "source": [
    "# pull Data from file\n",
    "meter_df = pd.read_csv(\"meter_stick.csv\")\n",
    "puck1_df = pd.read_csv(\"puck_drop.csv\")\n",
    "puck2_df = pd.read_csv(\"puck_drop_2.csv\")\n",
    "puck3_df = pd.read_csv(\"puck_drop_3.csv\")"
   ]
  },
  {
   "cell_type": "code",
   "execution_count": 85,
   "metadata": {
    "tags": []
   },
   "outputs": [],
   "source": [
    "# Create conversion function that will take in an input in pixels and will output, 1. the value in meters and 2. the measured error. Note for the error use standard deviation i.e. np.std()\n",
    "# input in px * (300 mm/ length) * ( 1m / 1000mm ) = output in meters \n",
    "px = np.array([meter_df[\"px\"]]) \n",
    "py = np.array([meter_df[\"py\"]]) \n",
    "yx = np.array([meter_df[\"yx\"]]) \n",
    "yy = np.array([meter_df[\"yy\"]]) \n",
    "length = np.sqrt( (px-yx)**2  + (py - yy)**2  )\n",
    "length_ave = np.nanmean(length)\n",
    "\n",
    "# this will be used on the pixel class\n",
    "def convert(pixels):\n",
    "    meters = (1/1000)*(300/length_ave)*pixels\n",
    "    error = np.nanstd(length)\n",
    "    return meters, error"
   ]
  },
  {
   "source": [
    "# Create class that will:\n",
    "#   import data to arrays and calculate values.\n",
    "#   convert from milliseconds to seconds.\n",
    "#   use np.gradient to find the vel and acceleration\n",
    "\n",
    "class object_puck:\n",
    "    def __init__(self, dataframe):\n",
    "        self.gx = np.array([dataframe[\"gx\"][10:]])\n",
    "        self.gx, self.errorX = convert(self.gx)\n",
    "        self.gy = np.array([dataframe[\"gy\"][10:]])\n",
    "        self.gx, self.errorY = convert(self.gy)\n",
    "        self.time_ms = np.array([dataframe[\"time\"][10:]])\n",
    "        self.time = self.time_ms / 1000\n",
    "    def dataframe(self):\n",
    "        self.velx = np.gradient(self.gx.flatten(),self.time.flatten())\n",
    "        self.vely = np.gradient(self.gy.flatten(),self.time.flatten())\n",
    "        self.accx = np.gradient(self.velx.flatten(),self.time.flatten())\n",
    "        self.accy = np.gradient(self.vely.flatten(),self.time.flatten())\n",
    "        self.data_df = pd.DataFrame({\n",
    "        \"xpos\": self.gx.flatten(),\n",
    "        \"ypos\": self.gy.flatten(),\n",
    "        \"xvel\": self.velx.flatten(),\n",
    "        \"yvel\": self.vely.flatten(),\n",
    "        \"xacc\": self.accx.flatten(),\n",
    "        \"yacc\": self.accy.flatten(),\n",
    "        \"time\": self.time.flatten()\n",
    "        })\n",
    "    \n",
    "trial1 = object_puck(puck1_df)\n",
    "trial2 = object_puck(puck2_df)\n",
    "trial3 = object_puck(puck3_df)\n"
   ],
   "cell_type": "code",
   "metadata": {
    "tags": []
   },
   "execution_count": 92,
   "outputs": []
  },
  {
   "cell_type": "code",
   "execution_count": 93,
   "metadata": {},
   "outputs": [],
   "source": [
    "trial1.dataframe.plot( x = \"\")"
   ]
  },
  {
   "cell_type": "code",
   "execution_count": null,
   "metadata": {},
   "outputs": [],
   "source": []
  }
 ]
}