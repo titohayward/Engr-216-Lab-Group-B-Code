{
 "metadata": {
  "language_info": {
   "codemirror_mode": {
    "name": "ipython",
    "version": 3
   },
   "file_extension": ".py",
   "mimetype": "text/x-python",
   "name": "python",
   "nbconvert_exporter": "python",
   "pygments_lexer": "ipython3",
   "version": "3.7.3-final"
  },
  "orig_nbformat": 2,
  "kernelspec": {
   "name": "python_defaultSpec_1600907282833",
   "display_name": "Python 3.7.3 64-bit ('base': conda)"
  }
 },
 "nbformat": 4,
 "nbformat_minor": 2,
 "cells": [
  {
   "cell_type": "code",
   "execution_count": 1,
   "metadata": {},
   "outputs": [],
   "source": [
    "import numpy as np\n",
    "import pandas as pd\n",
    "import matplotlib.pyplot as plt\n",
    "\n",
    "df = pd.read_excel(\"Lab 2 Data_9.23_Cuts.xlsx\")\n"
   ]
  },
  {
   "cell_type": "code",
   "execution_count": 2,
   "metadata": {},
   "outputs": [
    {
     "output_type": "execute_result",
     "data": {
      "text/plain": "  meter_stick          Unnamed: 1     Unnamed: 2       Unnamed: 3  \\\n0    frame_no  time: milliseconds  time: seconds  size_px-hotpink   \n1           0               128.6         0.1286              NaN   \n2           1               128.6         0.1286              NaN   \n3           2               236.1         0.2361              NaN   \n4           3               260.1         0.2601              NaN   \n\n              Unnamed: 4             Unnamed: 5  Unnamed: 6  \\\n0  position_px_x-hotpink  position_px_y-hotpink         NaN   \n1                    NaN                    NaN         NaN   \n2                    NaN                    NaN         NaN   \n3                    NaN                    NaN         NaN   \n4                    NaN                    NaN         NaN   \n\n           Unnamed: 7                Unnamed: 8                Unnamed: 9  \\\n0  size_px-yellowneon  position_px_x-yellowneon  position_px_y-yellowneon   \n1                 NaN                       NaN                       NaN   \n2                 NaN                       NaN                       NaN   \n3                 NaN                       NaN                       NaN   \n4                 NaN                       NaN                       NaN   \n\n                                         Unnamed: 10 Unnamed: 11  Unnamed: 12  \n0  distance in pixels between stickers at each frame         NaN          NaN  \n1                                                NaN         NaN          NaN  \n2                                                NaN         NaN          NaN  \n3                                                NaN         NaN          NaN  \n4                                                NaN         NaN          NaN  ",
      "text/html": "<div>\n<style scoped>\n    .dataframe tbody tr th:only-of-type {\n        vertical-align: middle;\n    }\n\n    .dataframe tbody tr th {\n        vertical-align: top;\n    }\n\n    .dataframe thead th {\n        text-align: right;\n    }\n</style>\n<table border=\"1\" class=\"dataframe\">\n  <thead>\n    <tr style=\"text-align: right;\">\n      <th></th>\n      <th>meter_stick</th>\n      <th>Unnamed: 1</th>\n      <th>Unnamed: 2</th>\n      <th>Unnamed: 3</th>\n      <th>Unnamed: 4</th>\n      <th>Unnamed: 5</th>\n      <th>Unnamed: 6</th>\n      <th>Unnamed: 7</th>\n      <th>Unnamed: 8</th>\n      <th>Unnamed: 9</th>\n      <th>Unnamed: 10</th>\n      <th>Unnamed: 11</th>\n      <th>Unnamed: 12</th>\n    </tr>\n  </thead>\n  <tbody>\n    <tr>\n      <th>0</th>\n      <td>frame_no</td>\n      <td>time: milliseconds</td>\n      <td>time: seconds</td>\n      <td>size_px-hotpink</td>\n      <td>position_px_x-hotpink</td>\n      <td>position_px_y-hotpink</td>\n      <td>NaN</td>\n      <td>size_px-yellowneon</td>\n      <td>position_px_x-yellowneon</td>\n      <td>position_px_y-yellowneon</td>\n      <td>distance in pixels between stickers at each frame</td>\n      <td>NaN</td>\n      <td>NaN</td>\n    </tr>\n    <tr>\n      <th>1</th>\n      <td>0</td>\n      <td>128.6</td>\n      <td>0.1286</td>\n      <td>NaN</td>\n      <td>NaN</td>\n      <td>NaN</td>\n      <td>NaN</td>\n      <td>NaN</td>\n      <td>NaN</td>\n      <td>NaN</td>\n      <td>NaN</td>\n      <td>NaN</td>\n      <td>NaN</td>\n    </tr>\n    <tr>\n      <th>2</th>\n      <td>1</td>\n      <td>128.6</td>\n      <td>0.1286</td>\n      <td>NaN</td>\n      <td>NaN</td>\n      <td>NaN</td>\n      <td>NaN</td>\n      <td>NaN</td>\n      <td>NaN</td>\n      <td>NaN</td>\n      <td>NaN</td>\n      <td>NaN</td>\n      <td>NaN</td>\n    </tr>\n    <tr>\n      <th>3</th>\n      <td>2</td>\n      <td>236.1</td>\n      <td>0.2361</td>\n      <td>NaN</td>\n      <td>NaN</td>\n      <td>NaN</td>\n      <td>NaN</td>\n      <td>NaN</td>\n      <td>NaN</td>\n      <td>NaN</td>\n      <td>NaN</td>\n      <td>NaN</td>\n      <td>NaN</td>\n    </tr>\n    <tr>\n      <th>4</th>\n      <td>3</td>\n      <td>260.1</td>\n      <td>0.2601</td>\n      <td>NaN</td>\n      <td>NaN</td>\n      <td>NaN</td>\n      <td>NaN</td>\n      <td>NaN</td>\n      <td>NaN</td>\n      <td>NaN</td>\n      <td>NaN</td>\n      <td>NaN</td>\n      <td>NaN</td>\n    </tr>\n  </tbody>\n</table>\n</div>"
     },
     "metadata": {},
     "execution_count": 2
    }
   ],
   "source": [
    "df.head()"
   ]
  },
  {
   "cell_type": "code",
   "execution_count": null,
   "metadata": {},
   "outputs": [],
   "source": []
  }
 ]
}